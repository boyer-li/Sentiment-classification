{
  "nbformat": 4,
  "nbformat_minor": 0,
  "metadata": {
    "colab": {
      "provenance": [],
      "machine_shape": "hm",
      "gpuType": "T4"
    },
    "kernelspec": {
      "name": "python3",
      "display_name": "Python 3"
    },
    "language_info": {
      "name": "python"
    },
    "accelerator": "GPU",
    "widgets": {
      "application/vnd.jupyter.widget-state+json": {
        "5398422094ea42ac84812292907f48aa": {
          "model_module": "@jupyter-widgets/controls",
          "model_name": "VBoxModel",
          "model_module_version": "1.5.0",
          "state": {
            "_dom_classes": [],
            "_model_module": "@jupyter-widgets/controls",
            "_model_module_version": "1.5.0",
            "_model_name": "VBoxModel",
            "_view_count": null,
            "_view_module": "@jupyter-widgets/controls",
            "_view_module_version": "1.5.0",
            "_view_name": "VBoxView",
            "box_style": "",
            "children": [
              "IPY_MODEL_fef82870790542a39dd1e3241bac0e2d",
              "IPY_MODEL_7ded703e708042bf9dd3599d4328804d",
              "IPY_MODEL_c262d879e9f246ebb7c245ec4663b1e3",
              "IPY_MODEL_3801d04f2fce484bbaa543f375a81a39"
            ],
            "layout": "IPY_MODEL_3d2632ac04ee4b299abb4a41eae9441c"
          }
        },
        "fef82870790542a39dd1e3241bac0e2d": {
          "model_module": "@jupyter-widgets/controls",
          "model_name": "DropdownModel",
          "model_module_version": "1.5.0",
          "state": {
            "_dom_classes": [],
            "_model_module": "@jupyter-widgets/controls",
            "_model_module_version": "1.5.0",
            "_model_name": "DropdownModel",
            "_options_labels": [
              "积极",
              "中立",
              "消极"
            ],
            "_view_count": null,
            "_view_module": "@jupyter-widgets/controls",
            "_view_module_version": "1.5.0",
            "_view_name": "DropdownView",
            "description": "情感类别:",
            "description_tooltip": null,
            "disabled": false,
            "index": 1,
            "layout": "IPY_MODEL_63f8119c290e4e2797c622e5867af96a",
            "style": "IPY_MODEL_b5569c4ee2da46eeac87ff3986cef0c0"
          }
        },
        "7ded703e708042bf9dd3599d4328804d": {
          "model_module": "@jupyter-widgets/controls",
          "model_name": "IntTextModel",
          "model_module_version": "1.5.0",
          "state": {
            "_dom_classes": [],
            "_model_module": "@jupyter-widgets/controls",
            "_model_module_version": "1.5.0",
            "_model_name": "IntTextModel",
            "_view_count": null,
            "_view_module": "@jupyter-widgets/controls",
            "_view_module_version": "1.5.0",
            "_view_name": "IntTextView",
            "continuous_update": false,
            "description": "语句数量:",
            "description_tooltip": null,
            "disabled": false,
            "layout": "IPY_MODEL_731a63bf4e5241e8a86a3b5d1baab34b",
            "step": 1,
            "style": "IPY_MODEL_5aeaed74e7c84d68b3afd084c142a986",
            "value": 5
          }
        },
        "c262d879e9f246ebb7c245ec4663b1e3": {
          "model_module": "@jupyter-widgets/controls",
          "model_name": "ButtonModel",
          "model_module_version": "1.5.0",
          "state": {
            "_dom_classes": [],
            "_model_module": "@jupyter-widgets/controls",
            "_model_module_version": "1.5.0",
            "_model_name": "ButtonModel",
            "_view_count": null,
            "_view_module": "@jupyter-widgets/controls",
            "_view_module_version": "1.5.0",
            "_view_name": "ButtonView",
            "button_style": "success",
            "description": "查询",
            "disabled": false,
            "icon": "",
            "layout": "IPY_MODEL_6b23e7f738f740c6bbba335cc85519a9",
            "style": "IPY_MODEL_af9434f469b0479dbbb746dc77e429fd",
            "tooltip": "点击查询"
          }
        },
        "3801d04f2fce484bbaa543f375a81a39": {
          "model_module": "@jupyter-widgets/output",
          "model_name": "OutputModel",
          "model_module_version": "1.0.0",
          "state": {
            "_dom_classes": [],
            "_model_module": "@jupyter-widgets/output",
            "_model_module_version": "1.0.0",
            "_model_name": "OutputModel",
            "_view_count": null,
            "_view_module": "@jupyter-widgets/output",
            "_view_module_version": "1.0.0",
            "_view_name": "OutputView",
            "layout": "IPY_MODEL_9a101dc156934458aeb4fff0823c0ae0",
            "msg_id": "",
            "outputs": [
              {
                "output_type": "stream",
                "name": "stdout",
                "text": [
                  "我觉得不管选择文科还是理科，都要保持开放的心态，接受新的挑战。\n",
                  "”住宿可以让学生更早地接触社会，了解不同的文化和人群。“\n",
                  "我认为我们应该尊重每个人的权利，包括在课堂上选择自己状态的权利。\n",
                  "“我认为读课外书会分散我的注意力，影响我的学习效率。”\n",
                  "“学习是为了充实自己，不是为了追求排名，所以顺其自然就好。”\n",
                  "\r 1/17 [>.............................] - ETA: 0s"
                ]
              },
              {
                "output_type": "stream",
                "name": "stdout",
                "text": [
                  "\b\b\b\b\b\b\b\b\b\b\b\b\b\b\b\b\b\b\b\b\b\b\b\b\b\b\b\b\b\b\b\b\b\b\b\b\b\b\b\b\b\b\b\b\b\b\b\b\r17/17 [==============================] - 0s 3ms/step\n"
                ]
              },
              {
                "output_type": "stream",
                "name": "stdout",
                "text": [
                  "准确率: 1.00\n",
                  "召回率: 1.00\n",
                  "F1得分: 0.50\n"
                ]
              }
            ]
          }
        },
        "3d2632ac04ee4b299abb4a41eae9441c": {
          "model_module": "@jupyter-widgets/base",
          "model_name": "LayoutModel",
          "model_module_version": "1.2.0",
          "state": {
            "_model_module": "@jupyter-widgets/base",
            "_model_module_version": "1.2.0",
            "_model_name": "LayoutModel",
            "_view_count": null,
            "_view_module": "@jupyter-widgets/base",
            "_view_module_version": "1.2.0",
            "_view_name": "LayoutView",
            "align_content": null,
            "align_items": null,
            "align_self": null,
            "border": null,
            "bottom": null,
            "display": null,
            "flex": null,
            "flex_flow": null,
            "grid_area": null,
            "grid_auto_columns": null,
            "grid_auto_flow": null,
            "grid_auto_rows": null,
            "grid_column": null,
            "grid_gap": null,
            "grid_row": null,
            "grid_template_areas": null,
            "grid_template_columns": null,
            "grid_template_rows": null,
            "height": null,
            "justify_content": null,
            "justify_items": null,
            "left": null,
            "margin": null,
            "max_height": null,
            "max_width": null,
            "min_height": null,
            "min_width": null,
            "object_fit": null,
            "object_position": null,
            "order": null,
            "overflow": null,
            "overflow_x": null,
            "overflow_y": null,
            "padding": null,
            "right": null,
            "top": null,
            "visibility": null,
            "width": null
          }
        },
        "63f8119c290e4e2797c622e5867af96a": {
          "model_module": "@jupyter-widgets/base",
          "model_name": "LayoutModel",
          "model_module_version": "1.2.0",
          "state": {
            "_model_module": "@jupyter-widgets/base",
            "_model_module_version": "1.2.0",
            "_model_name": "LayoutModel",
            "_view_count": null,
            "_view_module": "@jupyter-widgets/base",
            "_view_module_version": "1.2.0",
            "_view_name": "LayoutView",
            "align_content": null,
            "align_items": null,
            "align_self": null,
            "border": null,
            "bottom": null,
            "display": null,
            "flex": null,
            "flex_flow": null,
            "grid_area": null,
            "grid_auto_columns": null,
            "grid_auto_flow": null,
            "grid_auto_rows": null,
            "grid_column": null,
            "grid_gap": null,
            "grid_row": null,
            "grid_template_areas": null,
            "grid_template_columns": null,
            "grid_template_rows": null,
            "height": null,
            "justify_content": null,
            "justify_items": null,
            "left": null,
            "margin": null,
            "max_height": null,
            "max_width": null,
            "min_height": null,
            "min_width": null,
            "object_fit": null,
            "object_position": null,
            "order": null,
            "overflow": null,
            "overflow_x": null,
            "overflow_y": null,
            "padding": null,
            "right": null,
            "top": null,
            "visibility": null,
            "width": null
          }
        },
        "b5569c4ee2da46eeac87ff3986cef0c0": {
          "model_module": "@jupyter-widgets/controls",
          "model_name": "DescriptionStyleModel",
          "model_module_version": "1.5.0",
          "state": {
            "_model_module": "@jupyter-widgets/controls",
            "_model_module_version": "1.5.0",
            "_model_name": "DescriptionStyleModel",
            "_view_count": null,
            "_view_module": "@jupyter-widgets/base",
            "_view_module_version": "1.2.0",
            "_view_name": "StyleView",
            "description_width": ""
          }
        },
        "731a63bf4e5241e8a86a3b5d1baab34b": {
          "model_module": "@jupyter-widgets/base",
          "model_name": "LayoutModel",
          "model_module_version": "1.2.0",
          "state": {
            "_model_module": "@jupyter-widgets/base",
            "_model_module_version": "1.2.0",
            "_model_name": "LayoutModel",
            "_view_count": null,
            "_view_module": "@jupyter-widgets/base",
            "_view_module_version": "1.2.0",
            "_view_name": "LayoutView",
            "align_content": null,
            "align_items": null,
            "align_self": null,
            "border": null,
            "bottom": null,
            "display": null,
            "flex": null,
            "flex_flow": null,
            "grid_area": null,
            "grid_auto_columns": null,
            "grid_auto_flow": null,
            "grid_auto_rows": null,
            "grid_column": null,
            "grid_gap": null,
            "grid_row": null,
            "grid_template_areas": null,
            "grid_template_columns": null,
            "grid_template_rows": null,
            "height": null,
            "justify_content": null,
            "justify_items": null,
            "left": null,
            "margin": null,
            "max_height": null,
            "max_width": null,
            "min_height": null,
            "min_width": null,
            "object_fit": null,
            "object_position": null,
            "order": null,
            "overflow": null,
            "overflow_x": null,
            "overflow_y": null,
            "padding": null,
            "right": null,
            "top": null,
            "visibility": null,
            "width": null
          }
        },
        "5aeaed74e7c84d68b3afd084c142a986": {
          "model_module": "@jupyter-widgets/controls",
          "model_name": "DescriptionStyleModel",
          "model_module_version": "1.5.0",
          "state": {
            "_model_module": "@jupyter-widgets/controls",
            "_model_module_version": "1.5.0",
            "_model_name": "DescriptionStyleModel",
            "_view_count": null,
            "_view_module": "@jupyter-widgets/base",
            "_view_module_version": "1.2.0",
            "_view_name": "StyleView",
            "description_width": ""
          }
        },
        "6b23e7f738f740c6bbba335cc85519a9": {
          "model_module": "@jupyter-widgets/base",
          "model_name": "LayoutModel",
          "model_module_version": "1.2.0",
          "state": {
            "_model_module": "@jupyter-widgets/base",
            "_model_module_version": "1.2.0",
            "_model_name": "LayoutModel",
            "_view_count": null,
            "_view_module": "@jupyter-widgets/base",
            "_view_module_version": "1.2.0",
            "_view_name": "LayoutView",
            "align_content": null,
            "align_items": null,
            "align_self": null,
            "border": null,
            "bottom": null,
            "display": null,
            "flex": null,
            "flex_flow": null,
            "grid_area": null,
            "grid_auto_columns": null,
            "grid_auto_flow": null,
            "grid_auto_rows": null,
            "grid_column": null,
            "grid_gap": null,
            "grid_row": null,
            "grid_template_areas": null,
            "grid_template_columns": null,
            "grid_template_rows": null,
            "height": null,
            "justify_content": null,
            "justify_items": null,
            "left": null,
            "margin": null,
            "max_height": null,
            "max_width": null,
            "min_height": null,
            "min_width": null,
            "object_fit": null,
            "object_position": null,
            "order": null,
            "overflow": null,
            "overflow_x": null,
            "overflow_y": null,
            "padding": null,
            "right": null,
            "top": null,
            "visibility": null,
            "width": null
          }
        },
        "af9434f469b0479dbbb746dc77e429fd": {
          "model_module": "@jupyter-widgets/controls",
          "model_name": "ButtonStyleModel",
          "model_module_version": "1.5.0",
          "state": {
            "_model_module": "@jupyter-widgets/controls",
            "_model_module_version": "1.5.0",
            "_model_name": "ButtonStyleModel",
            "_view_count": null,
            "_view_module": "@jupyter-widgets/base",
            "_view_module_version": "1.2.0",
            "_view_name": "StyleView",
            "button_color": null,
            "font_weight": ""
          }
        },
        "9a101dc156934458aeb4fff0823c0ae0": {
          "model_module": "@jupyter-widgets/base",
          "model_name": "LayoutModel",
          "model_module_version": "1.2.0",
          "state": {
            "_model_module": "@jupyter-widgets/base",
            "_model_module_version": "1.2.0",
            "_model_name": "LayoutModel",
            "_view_count": null,
            "_view_module": "@jupyter-widgets/base",
            "_view_module_version": "1.2.0",
            "_view_name": "LayoutView",
            "align_content": null,
            "align_items": null,
            "align_self": null,
            "border": null,
            "bottom": null,
            "display": null,
            "flex": null,
            "flex_flow": null,
            "grid_area": null,
            "grid_auto_columns": null,
            "grid_auto_flow": null,
            "grid_auto_rows": null,
            "grid_column": null,
            "grid_gap": null,
            "grid_row": null,
            "grid_template_areas": null,
            "grid_template_columns": null,
            "grid_template_rows": null,
            "height": null,
            "justify_content": null,
            "justify_items": null,
            "left": null,
            "margin": null,
            "max_height": null,
            "max_width": null,
            "min_height": null,
            "min_width": null,
            "object_fit": null,
            "object_position": null,
            "order": null,
            "overflow": null,
            "overflow_x": null,
            "overflow_y": null,
            "padding": null,
            "right": null,
            "top": null,
            "visibility": null,
            "width": null
          }
        }
      }
    }
  },
  "cells": [
    {
      "cell_type": "markdown",
      "source": [
        "1.数据加载和合并"
      ],
      "metadata": {
        "id": "Rm-ixgJeNoax"
      }
    },
    {
      "cell_type": "code",
      "source": [
        "from google.colab import drive\n",
        "drive.mount('/content/drive/')"
      ],
      "metadata": {
        "colab": {
          "base_uri": "https://localhost:8080/"
        },
        "id": "0EnV6LVdONPQ",
        "outputId": "e6a9537b-b444-42d0-9eb7-06b6231aaad0"
      },
      "execution_count": 1,
      "outputs": [
        {
          "output_type": "stream",
          "name": "stdout",
          "text": [
            "Drive already mounted at /content/drive/; to attempt to forcibly remount, call drive.mount(\"/content/drive/\", force_remount=True).\n"
          ]
        }
      ]
    },
    {
      "cell_type": "code",
      "source": [
        "import pandas as pd\n",
        "import numpy as np\n",
        "from sklearn.model_selection import train_test_split\n",
        "from sklearn.preprocessing import LabelEncoder\n",
        "from tensorflow.keras.preprocessing.text import Tokenizer\n",
        "from tensorflow.keras.preprocessing.sequence import pad_sequences\n",
        "from tensorflow.keras.models import Sequential\n",
        "from tensorflow.keras.layers import Embedding, LSTM, Dense, Dropout, SpatialDropout1D\n",
        "from tensorflow.keras.utils import to_categorical\n",
        "from gensim.models import KeyedVectors\n",
        "import jieba\n",
        "import requests\n",
        "\n",
        "# 加载数据\n",
        "negative_words = pd.read_csv('/content/drive/My Drive/Work/1.高中生情感分类/negative_words.csv', header=None, names=['text'])\n",
        "neutral_words = pd.read_csv('/content/drive/My Drive/Work/1.高中生情感分类/neutral_words.csv', header=None, names=['text'],on_bad_lines='skip')\n",
        "positive_words = pd.read_csv('/content/drive/My Drive/Work/1.高中生情感分类/positive_words.csv', header=None, names=['text'])\n",
        "\n",
        "# 分配标签\n",
        "neutral_words['label'] = 0\n",
        "positive_words['label'] = 1\n",
        "negative_words['label'] = 2\n",
        "# 合并数据集\n",
        "data = pd.concat([positive_words, neutral_words, negative_words])\n"
      ],
      "metadata": {
        "id": "EM-lpzZiNjXa"
      },
      "execution_count": 2,
      "outputs": []
    },
    {
      "cell_type": "code",
      "source": [
        "#随机化数据\n",
        "data = data.sample(frac=1).reset_index(drop=True)"
      ],
      "metadata": {
        "id": "dpEPHJUcVOK8"
      },
      "execution_count": 3,
      "outputs": []
    },
    {
      "cell_type": "code",
      "source": [
        "import jieba\n",
        "import requests\n",
        "\n",
        "stop_words_url = 'https://raw.githubusercontent.com/goto456/stopwords/master/cn_stopwords.txt'\n",
        "\n",
        "# 使用requests库下载停用词库\n",
        "response = requests.get(stop_words_url)\n",
        "stop_words = set(response.text.splitlines())\n",
        "\n",
        "def preprocess_chinese_text(text):\n",
        "    # 使用jieba进行中文分词\n",
        "    words = jieba.cut(text)\n",
        "    # 移除停用词\n",
        "    filtered_words = [word for word in words if word not in stop_words and not word.isspace()]\n",
        "    # 合并词汇为一个字符串\n",
        "    return ' '.join(filtered_words)\n",
        "\n",
        "# 应用预处理函数到文本列\n",
        "data['original_text'] = data['text'].copy()\n",
        "data['text'] = data['text'].apply(preprocess_chinese_text)"
      ],
      "metadata": {
        "colab": {
          "base_uri": "https://localhost:8080/"
        },
        "id": "fAeO-rZU09d4",
        "outputId": "31af3ab3-5585-4027-e626-936a2aa0ef0e"
      },
      "execution_count": 4,
      "outputs": [
        {
          "output_type": "stream",
          "name": "stderr",
          "text": [
            "Building prefix dict from the default dictionary ...\n",
            "DEBUG:jieba:Building prefix dict from the default dictionary ...\n",
            "Loading model from cache /tmp/jieba.cache\n",
            "DEBUG:jieba:Loading model from cache /tmp/jieba.cache\n",
            "Loading model cost 0.789 seconds.\n",
            "DEBUG:jieba:Loading model cost 0.789 seconds.\n",
            "Prefix dict has been built successfully.\n",
            "DEBUG:jieba:Prefix dict has been built successfully.\n"
          ]
        }
      ]
    },
    {
      "cell_type": "code",
      "source": [
        "# 划分数据集\n",
        "X = data['text']\n",
        "y = data['label']\n",
        "label_encoder = LabelEncoder()\n",
        "y_encoded = label_encoder.fit_transform(y)\n",
        "y_categorical = to_categorical(y_encoded)\n",
        "\n",
        "# 文本序列化和填充\n",
        "tokenizer = Tokenizer()\n",
        "tokenizer.fit_on_texts(X)\n",
        "X_seq = tokenizer.texts_to_sequences(X)\n",
        "max_seq_length = max([len(x) for x in X_seq])\n",
        "X_pad = pad_sequences(X_seq, maxlen=max_seq_length)\n",
        "\n",
        "# 加载腾讯的预训练模型\n",
        "model_path = '/content/drive/My Drive/Work/1.高中生情感分类/tencent-ailab-embedding-zh-d100-v0.2.0-s.txt'\n",
        "word_vectors_zh = KeyedVectors.load_word2vec_format(model_path, binary=False)"
      ],
      "metadata": {
        "id": "dbjaie4YB3Eo"
      },
      "execution_count": 13,
      "outputs": []
    },
    {
      "cell_type": "code",
      "source": [
        "# 初始化嵌入矩阵\n",
        "embedding_matrix = np.zeros((len(tokenizer.word_index) + 1, 100))\n",
        "for word, i in tokenizer.word_index.items():\n",
        "    embedding_vector = word_vectors_zh[word] if word in word_vectors_zh else None\n",
        "    if embedding_vector is not None:\n",
        "        embedding_matrix[i] = embedding_vector"
      ],
      "metadata": {
        "id": "kYcMivwfCkkN"
      },
      "execution_count": 14,
      "outputs": []
    },
    {
      "cell_type": "code",
      "source": [
        "# 构建模型\n",
        "model = Sequential([\n",
        "    Embedding(input_dim=len(tokenizer.word_index) + 1, output_dim=100, weights=[embedding_matrix], input_length=max_seq_length, trainable=False),\n",
        "    SpatialDropout1D(0.2),\n",
        "    LSTM(128, return_sequences=True),\n",
        "    Dropout(0.2),\n",
        "    LSTM(64),\n",
        "    Dropout(0.2),\n",
        "    Dense(32, activation='relu'),\n",
        "    Dense(len(y_categorical[0]), activation='softmax')\n",
        "])\n",
        "\n",
        "model.compile(optimizer='adam', loss='categorical_crossentropy', metrics=['accuracy'])\n"
      ],
      "metadata": {
        "id": "tMZVxxcmCjCh"
      },
      "execution_count": 15,
      "outputs": []
    },
    {
      "cell_type": "code",
      "source": [
        "# 模型训练\n",
        "X_train, X_test, y_train, y_test = train_test_split(X_pad, y_categorical, test_size=0.2, random_state=42)\n",
        "model.fit(X_train, y_train, epochs=10, validation_data=(X_test, y_test))"
      ],
      "metadata": {
        "colab": {
          "base_uri": "https://localhost:8080/"
        },
        "id": "xGyYJzaREF17",
        "outputId": "d802820e-ec54-4f34-b07b-20b3b1acdf3d"
      },
      "execution_count": 16,
      "outputs": [
        {
          "output_type": "stream",
          "name": "stdout",
          "text": [
            "Epoch 1/15\n",
            "42/42 [==============================] - 5s 26ms/step - loss: 0.8856 - accuracy: 0.5996 - val_loss: 0.6023 - val_accuracy: 0.7857\n",
            "Epoch 2/15\n",
            "42/42 [==============================] - 0s 8ms/step - loss: 0.5841 - accuracy: 0.7591 - val_loss: 0.4958 - val_accuracy: 0.8065\n",
            "Epoch 3/15\n",
            "42/42 [==============================] - 0s 8ms/step - loss: 0.5110 - accuracy: 0.7979 - val_loss: 0.4620 - val_accuracy: 0.8214\n",
            "Epoch 4/15\n",
            "42/42 [==============================] - 0s 8ms/step - loss: 0.4581 - accuracy: 0.8188 - val_loss: 0.4246 - val_accuracy: 0.8333\n",
            "Epoch 5/15\n",
            "42/42 [==============================] - 0s 8ms/step - loss: 0.4375 - accuracy: 0.8382 - val_loss: 0.4461 - val_accuracy: 0.8244\n",
            "Epoch 6/15\n",
            "42/42 [==============================] - 0s 8ms/step - loss: 0.3972 - accuracy: 0.8486 - val_loss: 0.3946 - val_accuracy: 0.8304\n",
            "Epoch 7/15\n",
            "42/42 [==============================] - 0s 8ms/step - loss: 0.3866 - accuracy: 0.8389 - val_loss: 0.4116 - val_accuracy: 0.8333\n",
            "Epoch 8/15\n",
            "42/42 [==============================] - 0s 8ms/step - loss: 0.3598 - accuracy: 0.8620 - val_loss: 0.3578 - val_accuracy: 0.8571\n",
            "Epoch 9/15\n",
            "42/42 [==============================] - 0s 8ms/step - loss: 0.3425 - accuracy: 0.8665 - val_loss: 0.3533 - val_accuracy: 0.8661\n",
            "Epoch 10/15\n",
            "42/42 [==============================] - 0s 8ms/step - loss: 0.3333 - accuracy: 0.8688 - val_loss: 0.3616 - val_accuracy: 0.8601\n",
            "Epoch 11/15\n",
            "42/42 [==============================] - 0s 8ms/step - loss: 0.2954 - accuracy: 0.8852 - val_loss: 0.3409 - val_accuracy: 0.8601\n",
            "Epoch 12/15\n",
            "42/42 [==============================] - 0s 9ms/step - loss: 0.2850 - accuracy: 0.8889 - val_loss: 0.3953 - val_accuracy: 0.8304\n",
            "Epoch 13/15\n",
            "42/42 [==============================] - 0s 8ms/step - loss: 0.2710 - accuracy: 0.9001 - val_loss: 0.3050 - val_accuracy: 0.8720\n",
            "Epoch 14/15\n",
            "42/42 [==============================] - 0s 8ms/step - loss: 0.2767 - accuracy: 0.8978 - val_loss: 0.3332 - val_accuracy: 0.8661\n",
            "Epoch 15/15\n",
            "42/42 [==============================] - 0s 7ms/step - loss: 0.2593 - accuracy: 0.8911 - val_loss: 0.3468 - val_accuracy: 0.8571\n"
          ]
        },
        {
          "output_type": "execute_result",
          "data": {
            "text/plain": [
              "<keras.src.callbacks.History at 0x7e55a36bef20>"
            ]
          },
          "metadata": {},
          "execution_count": 16
        }
      ]
    },
    {
      "cell_type": "code",
      "source": [
        "# 评估模型\n",
        "loss, accuracy = model.evaluate(X_test, y_test)\n",
        "print(f'Test accuracy: {accuracy*100:.2f}%')"
      ],
      "metadata": {
        "colab": {
          "base_uri": "https://localhost:8080/"
        },
        "id": "ltW_kuXZEG3H",
        "outputId": "94abe996-231e-4969-af5e-eeca6c661723"
      },
      "execution_count": 17,
      "outputs": [
        {
          "output_type": "stream",
          "name": "stdout",
          "text": [
            "11/11 [==============================] - 0s 4ms/step - loss: 0.3468 - accuracy: 0.8571\n",
            "Test accuracy: 85.71%\n"
          ]
        }
      ]
    },
    {
      "cell_type": "code",
      "source": [
        "!pip install ipywidgets"
      ],
      "metadata": {
        "colab": {
          "base_uri": "https://localhost:8080/"
        },
        "id": "cU6_b55mKYrw",
        "outputId": "9e06473e-b8ae-4fde-b46d-bc7c006f4666"
      },
      "execution_count": 18,
      "outputs": [
        {
          "output_type": "stream",
          "name": "stdout",
          "text": [
            "Requirement already satisfied: ipywidgets in /usr/local/lib/python3.10/dist-packages (7.7.1)\n",
            "Requirement already satisfied: ipykernel>=4.5.1 in /usr/local/lib/python3.10/dist-packages (from ipywidgets) (5.5.6)\n",
            "Requirement already satisfied: ipython-genutils~=0.2.0 in /usr/local/lib/python3.10/dist-packages (from ipywidgets) (0.2.0)\n",
            "Requirement already satisfied: traitlets>=4.3.1 in /usr/local/lib/python3.10/dist-packages (from ipywidgets) (5.7.1)\n",
            "Requirement already satisfied: widgetsnbextension~=3.6.0 in /usr/local/lib/python3.10/dist-packages (from ipywidgets) (3.6.6)\n",
            "Requirement already satisfied: ipython>=4.0.0 in /usr/local/lib/python3.10/dist-packages (from ipywidgets) (7.34.0)\n",
            "Requirement already satisfied: jupyterlab-widgets>=1.0.0 in /usr/local/lib/python3.10/dist-packages (from ipywidgets) (3.0.10)\n",
            "Requirement already satisfied: jupyter-client in /usr/local/lib/python3.10/dist-packages (from ipykernel>=4.5.1->ipywidgets) (6.1.12)\n",
            "Requirement already satisfied: tornado>=4.2 in /usr/local/lib/python3.10/dist-packages (from ipykernel>=4.5.1->ipywidgets) (6.3.3)\n",
            "Requirement already satisfied: setuptools>=18.5 in /usr/local/lib/python3.10/dist-packages (from ipython>=4.0.0->ipywidgets) (67.7.2)\n",
            "Requirement already satisfied: jedi>=0.16 in /usr/local/lib/python3.10/dist-packages (from ipython>=4.0.0->ipywidgets) (0.19.1)\n",
            "Requirement already satisfied: decorator in /usr/local/lib/python3.10/dist-packages (from ipython>=4.0.0->ipywidgets) (4.4.2)\n",
            "Requirement already satisfied: pickleshare in /usr/local/lib/python3.10/dist-packages (from ipython>=4.0.0->ipywidgets) (0.7.5)\n",
            "Requirement already satisfied: prompt-toolkit!=3.0.0,!=3.0.1,<3.1.0,>=2.0.0 in /usr/local/lib/python3.10/dist-packages (from ipython>=4.0.0->ipywidgets) (3.0.43)\n",
            "Requirement already satisfied: pygments in /usr/local/lib/python3.10/dist-packages (from ipython>=4.0.0->ipywidgets) (2.16.1)\n",
            "Requirement already satisfied: backcall in /usr/local/lib/python3.10/dist-packages (from ipython>=4.0.0->ipywidgets) (0.2.0)\n",
            "Requirement already satisfied: matplotlib-inline in /usr/local/lib/python3.10/dist-packages (from ipython>=4.0.0->ipywidgets) (0.1.6)\n",
            "Requirement already satisfied: pexpect>4.3 in /usr/local/lib/python3.10/dist-packages (from ipython>=4.0.0->ipywidgets) (4.9.0)\n",
            "Requirement already satisfied: notebook>=4.4.1 in /usr/local/lib/python3.10/dist-packages (from widgetsnbextension~=3.6.0->ipywidgets) (6.5.5)\n",
            "Requirement already satisfied: parso<0.9.0,>=0.8.3 in /usr/local/lib/python3.10/dist-packages (from jedi>=0.16->ipython>=4.0.0->ipywidgets) (0.8.3)\n",
            "Requirement already satisfied: jinja2 in /usr/local/lib/python3.10/dist-packages (from notebook>=4.4.1->widgetsnbextension~=3.6.0->ipywidgets) (3.1.3)\n",
            "Requirement already satisfied: pyzmq<25,>=17 in /usr/local/lib/python3.10/dist-packages (from notebook>=4.4.1->widgetsnbextension~=3.6.0->ipywidgets) (23.2.1)\n",
            "Requirement already satisfied: argon2-cffi in /usr/local/lib/python3.10/dist-packages (from notebook>=4.4.1->widgetsnbextension~=3.6.0->ipywidgets) (23.1.0)\n",
            "Requirement already satisfied: jupyter-core>=4.6.1 in /usr/local/lib/python3.10/dist-packages (from notebook>=4.4.1->widgetsnbextension~=3.6.0->ipywidgets) (5.7.1)\n",
            "Requirement already satisfied: nbformat in /usr/local/lib/python3.10/dist-packages (from notebook>=4.4.1->widgetsnbextension~=3.6.0->ipywidgets) (5.9.2)\n",
            "Requirement already satisfied: nbconvert>=5 in /usr/local/lib/python3.10/dist-packages (from notebook>=4.4.1->widgetsnbextension~=3.6.0->ipywidgets) (6.5.4)\n",
            "Requirement already satisfied: nest-asyncio>=1.5 in /usr/local/lib/python3.10/dist-packages (from notebook>=4.4.1->widgetsnbextension~=3.6.0->ipywidgets) (1.6.0)\n",
            "Requirement already satisfied: Send2Trash>=1.8.0 in /usr/local/lib/python3.10/dist-packages (from notebook>=4.4.1->widgetsnbextension~=3.6.0->ipywidgets) (1.8.2)\n",
            "Requirement already satisfied: terminado>=0.8.3 in /usr/local/lib/python3.10/dist-packages (from notebook>=4.4.1->widgetsnbextension~=3.6.0->ipywidgets) (0.18.0)\n",
            "Requirement already satisfied: prometheus-client in /usr/local/lib/python3.10/dist-packages (from notebook>=4.4.1->widgetsnbextension~=3.6.0->ipywidgets) (0.20.0)\n",
            "Requirement already satisfied: nbclassic>=0.4.7 in /usr/local/lib/python3.10/dist-packages (from notebook>=4.4.1->widgetsnbextension~=3.6.0->ipywidgets) (1.0.0)\n",
            "Requirement already satisfied: python-dateutil>=2.1 in /usr/local/lib/python3.10/dist-packages (from jupyter-client->ipykernel>=4.5.1->ipywidgets) (2.8.2)\n",
            "Requirement already satisfied: ptyprocess>=0.5 in /usr/local/lib/python3.10/dist-packages (from pexpect>4.3->ipython>=4.0.0->ipywidgets) (0.7.0)\n",
            "Requirement already satisfied: wcwidth in /usr/local/lib/python3.10/dist-packages (from prompt-toolkit!=3.0.0,!=3.0.1,<3.1.0,>=2.0.0->ipython>=4.0.0->ipywidgets) (0.2.13)\n",
            "Requirement already satisfied: platformdirs>=2.5 in /usr/local/lib/python3.10/dist-packages (from jupyter-core>=4.6.1->notebook>=4.4.1->widgetsnbextension~=3.6.0->ipywidgets) (4.2.0)\n",
            "Requirement already satisfied: jupyter-server>=1.8 in /usr/local/lib/python3.10/dist-packages (from nbclassic>=0.4.7->notebook>=4.4.1->widgetsnbextension~=3.6.0->ipywidgets) (1.24.0)\n",
            "Requirement already satisfied: notebook-shim>=0.2.3 in /usr/local/lib/python3.10/dist-packages (from nbclassic>=0.4.7->notebook>=4.4.1->widgetsnbextension~=3.6.0->ipywidgets) (0.2.4)\n",
            "Requirement already satisfied: lxml in /usr/local/lib/python3.10/dist-packages (from nbconvert>=5->notebook>=4.4.1->widgetsnbextension~=3.6.0->ipywidgets) (4.9.4)\n",
            "Requirement already satisfied: beautifulsoup4 in /usr/local/lib/python3.10/dist-packages (from nbconvert>=5->notebook>=4.4.1->widgetsnbextension~=3.6.0->ipywidgets) (4.12.3)\n",
            "Requirement already satisfied: bleach in /usr/local/lib/python3.10/dist-packages (from nbconvert>=5->notebook>=4.4.1->widgetsnbextension~=3.6.0->ipywidgets) (6.1.0)\n",
            "Requirement already satisfied: defusedxml in /usr/local/lib/python3.10/dist-packages (from nbconvert>=5->notebook>=4.4.1->widgetsnbextension~=3.6.0->ipywidgets) (0.7.1)\n",
            "Requirement already satisfied: entrypoints>=0.2.2 in /usr/local/lib/python3.10/dist-packages (from nbconvert>=5->notebook>=4.4.1->widgetsnbextension~=3.6.0->ipywidgets) (0.4)\n",
            "Requirement already satisfied: jupyterlab-pygments in /usr/local/lib/python3.10/dist-packages (from nbconvert>=5->notebook>=4.4.1->widgetsnbextension~=3.6.0->ipywidgets) (0.3.0)\n",
            "Requirement already satisfied: MarkupSafe>=2.0 in /usr/local/lib/python3.10/dist-packages (from nbconvert>=5->notebook>=4.4.1->widgetsnbextension~=3.6.0->ipywidgets) (2.1.5)\n",
            "Requirement already satisfied: mistune<2,>=0.8.1 in /usr/local/lib/python3.10/dist-packages (from nbconvert>=5->notebook>=4.4.1->widgetsnbextension~=3.6.0->ipywidgets) (0.8.4)\n",
            "Requirement already satisfied: nbclient>=0.5.0 in /usr/local/lib/python3.10/dist-packages (from nbconvert>=5->notebook>=4.4.1->widgetsnbextension~=3.6.0->ipywidgets) (0.9.0)\n",
            "Requirement already satisfied: packaging in /usr/local/lib/python3.10/dist-packages (from nbconvert>=5->notebook>=4.4.1->widgetsnbextension~=3.6.0->ipywidgets) (23.2)\n",
            "Requirement already satisfied: pandocfilters>=1.4.1 in /usr/local/lib/python3.10/dist-packages (from nbconvert>=5->notebook>=4.4.1->widgetsnbextension~=3.6.0->ipywidgets) (1.5.1)\n",
            "Requirement already satisfied: tinycss2 in /usr/local/lib/python3.10/dist-packages (from nbconvert>=5->notebook>=4.4.1->widgetsnbextension~=3.6.0->ipywidgets) (1.2.1)\n",
            "Requirement already satisfied: fastjsonschema in /usr/local/lib/python3.10/dist-packages (from nbformat->notebook>=4.4.1->widgetsnbextension~=3.6.0->ipywidgets) (2.19.1)\n",
            "Requirement already satisfied: jsonschema>=2.6 in /usr/local/lib/python3.10/dist-packages (from nbformat->notebook>=4.4.1->widgetsnbextension~=3.6.0->ipywidgets) (4.19.2)\n",
            "Requirement already satisfied: six>=1.5 in /usr/local/lib/python3.10/dist-packages (from python-dateutil>=2.1->jupyter-client->ipykernel>=4.5.1->ipywidgets) (1.16.0)\n",
            "Requirement already satisfied: argon2-cffi-bindings in /usr/local/lib/python3.10/dist-packages (from argon2-cffi->notebook>=4.4.1->widgetsnbextension~=3.6.0->ipywidgets) (21.2.0)\n",
            "Requirement already satisfied: attrs>=22.2.0 in /usr/local/lib/python3.10/dist-packages (from jsonschema>=2.6->nbformat->notebook>=4.4.1->widgetsnbextension~=3.6.0->ipywidgets) (23.2.0)\n",
            "Requirement already satisfied: jsonschema-specifications>=2023.03.6 in /usr/local/lib/python3.10/dist-packages (from jsonschema>=2.6->nbformat->notebook>=4.4.1->widgetsnbextension~=3.6.0->ipywidgets) (2023.12.1)\n",
            "Requirement already satisfied: referencing>=0.28.4 in /usr/local/lib/python3.10/dist-packages (from jsonschema>=2.6->nbformat->notebook>=4.4.1->widgetsnbextension~=3.6.0->ipywidgets) (0.33.0)\n",
            "Requirement already satisfied: rpds-py>=0.7.1 in /usr/local/lib/python3.10/dist-packages (from jsonschema>=2.6->nbformat->notebook>=4.4.1->widgetsnbextension~=3.6.0->ipywidgets) (0.18.0)\n",
            "Requirement already satisfied: anyio<4,>=3.1.0 in /usr/local/lib/python3.10/dist-packages (from jupyter-server>=1.8->nbclassic>=0.4.7->notebook>=4.4.1->widgetsnbextension~=3.6.0->ipywidgets) (3.7.1)\n",
            "Requirement already satisfied: websocket-client in /usr/local/lib/python3.10/dist-packages (from jupyter-server>=1.8->nbclassic>=0.4.7->notebook>=4.4.1->widgetsnbextension~=3.6.0->ipywidgets) (1.7.0)\n",
            "Requirement already satisfied: cffi>=1.0.1 in /usr/local/lib/python3.10/dist-packages (from argon2-cffi-bindings->argon2-cffi->notebook>=4.4.1->widgetsnbextension~=3.6.0->ipywidgets) (1.16.0)\n",
            "Requirement already satisfied: soupsieve>1.2 in /usr/local/lib/python3.10/dist-packages (from beautifulsoup4->nbconvert>=5->notebook>=4.4.1->widgetsnbextension~=3.6.0->ipywidgets) (2.5)\n",
            "Requirement already satisfied: webencodings in /usr/local/lib/python3.10/dist-packages (from bleach->nbconvert>=5->notebook>=4.4.1->widgetsnbextension~=3.6.0->ipywidgets) (0.5.1)\n",
            "Requirement already satisfied: idna>=2.8 in /usr/local/lib/python3.10/dist-packages (from anyio<4,>=3.1.0->jupyter-server>=1.8->nbclassic>=0.4.7->notebook>=4.4.1->widgetsnbextension~=3.6.0->ipywidgets) (3.6)\n",
            "Requirement already satisfied: sniffio>=1.1 in /usr/local/lib/python3.10/dist-packages (from anyio<4,>=3.1.0->jupyter-server>=1.8->nbclassic>=0.4.7->notebook>=4.4.1->widgetsnbextension~=3.6.0->ipywidgets) (1.3.1)\n",
            "Requirement already satisfied: exceptiongroup in /usr/local/lib/python3.10/dist-packages (from anyio<4,>=3.1.0->jupyter-server>=1.8->nbclassic>=0.4.7->notebook>=4.4.1->widgetsnbextension~=3.6.0->ipywidgets) (1.2.0)\n",
            "Requirement already satisfied: pycparser in /usr/local/lib/python3.10/dist-packages (from cffi>=1.0.1->argon2-cffi-bindings->argon2-cffi->notebook>=4.4.1->widgetsnbextension~=3.6.0->ipywidgets) (2.21)\n"
          ]
        }
      ]
    },
    {
      "cell_type": "code",
      "source": [
        "from ipywidgets import widgets, Layout\n",
        "from IPython.display import display\n",
        "from sklearn.metrics import accuracy_score, recall_score, f1_score"
      ],
      "metadata": {
        "id": "q1gfndq6KfWl"
      },
      "execution_count": 19,
      "outputs": []
    },
    {
      "cell_type": "code",
      "source": [
        "#设置一个输出区域\n",
        "output_area = widgets.Output()"
      ],
      "metadata": {
        "id": "EtEQkPBiQuyf"
      },
      "execution_count": 20,
      "outputs": []
    },
    {
      "cell_type": "code",
      "source": [
        "# 模型对整个数据集的预测\n",
        "predictions = model.predict(X_pad)\n",
        "predicted_classes = np.argmax(predictions, axis=1)  # 获取预测的类别索引"
      ],
      "metadata": {
        "colab": {
          "base_uri": "https://localhost:8080/"
        },
        "id": "0PNS037hMs4-",
        "outputId": "a2b7a652-cbdf-4e1c-cfef-87107005b7ca"
      },
      "execution_count": 21,
      "outputs": [
        {
          "output_type": "stream",
          "name": "stdout",
          "text": [
            "53/53 [==============================] - 1s 3ms/step\n"
          ]
        }
      ]
    },
    {
      "cell_type": "code",
      "source": [
        "#定义查询按钮和点击事件处理函数\n",
        "query_button = widgets.Button(\n",
        "    description='查询',\n",
        "    button_style='success', # 'success', 'info', 'warning', 'danger' or ''\n",
        "    tooltip='点击查询',\n",
        ")\n",
        "\n",
        "def on_query_button_clicked(b):\n",
        "    with output_area:\n",
        "        output_area.clear_output(wait=True)  # 清除输出区域的内容\n",
        "        emotion = emotion_dropdown.value\n",
        "        num_statements = num_statements_input.value\n",
        "        # 假设predicted_classes已经定义，并且包含了对整个数据集的情感预测\n",
        "        display_statements(emotion, num_statements, predicted_classes, data)\n",
        "        display_performance(emotion)  # 显示性能指标\n",
        "\n",
        "query_button.on_click(on_query_button_clicked)"
      ],
      "metadata": {
        "id": "zr3v4WRtK0SG"
      },
      "execution_count": 22,
      "outputs": []
    },
    {
      "cell_type": "code",
      "source": [
        "def display_performance(selected_emotion):\n",
        "    # 根据selected_emotion筛选对应情感的文本和标签\n",
        "    emotion_to_label = {'积极': 1, '中立': 0, '消极': 2}\n",
        "    label = emotion_to_label[selected_emotion]\n",
        "    indices = np.where(y == label)[0]\n",
        "    selected_X_test = X_pad[indices]\n",
        "    selected_y_test = y_categorical[indices]\n",
        "\n",
        "    # 预测\n",
        "    predictions = model.predict(selected_X_test)\n",
        "    predictions = np.argmax(predictions, axis=1)\n",
        "\n",
        "    # 计算性能指标\n",
        "    accuracy = accuracy_score(np.argmax(selected_y_test, axis=1), predictions)\n",
        "    recall = recall_score(np.argmax(selected_y_test, axis=1), predictions, average='macro', zero_division=1)\n",
        "    f1 = f1_score(np.argmax(selected_y_test, axis=1), predictions, average='macro',zero_division=1)\n",
        "\n",
        "    # 显示性能指标\n",
        "    print(f\"准确率: {accuracy:.2f}\")\n",
        "    print(f\"召回率: {recall:.2f}\")\n",
        "    print(f\"F1得分: {f1:.2f}\")"
      ],
      "metadata": {
        "id": "03AYg01tKgxg"
      },
      "execution_count": 23,
      "outputs": []
    },
    {
      "cell_type": "code",
      "source": [
        "def display_statements(emotion, num_statements, predicted_classes, data):\n",
        "    # 将用户选择的情感转换为对应的整数标签\n",
        "    emotion_to_label = {'积极': 1, '中立': 0, '消极': 2}\n",
        "    label = emotion_to_label[emotion]\n",
        "\n",
        "    # 获取对应情感预测的索引\n",
        "    selected_indices = np.where(predicted_classes == label)[0]\n",
        "\n",
        "    # 如果用户指定的数量超过了找到的文本数量，调整为实际数量\n",
        "    num_statements = min(num_statements, len(selected_indices))\n",
        "\n",
        "    # 随机选择指定数量的索引\n",
        "    if num_statements > 0:\n",
        "        selected_samples = np.random.choice(selected_indices, num_statements, replace=False)\n",
        "    else:\n",
        "        selected_samples = []\n",
        "\n",
        "    # 显示这些文本\n",
        "    for idx in selected_samples:\n",
        "        print(data.iloc[idx]['original_text'])  # 确保你有一个保存原始文本的列，这里使用了'text'"
      ],
      "metadata": {
        "id": "DLGnHOEYKrNw"
      },
      "execution_count": 24,
      "outputs": []
    },
    {
      "cell_type": "code",
      "source": [
        "from ipywidgets import VBox\n",
        "\n",
        "# 创建情感类型下拉菜单\n",
        "emotion_dropdown = widgets.Dropdown(\n",
        "    options=['积极', '中立', '消极'],\n",
        "    value='积极',\n",
        "    description='情感类别:',\n",
        ")\n",
        "\n",
        "# 创建一个整数输入框用于指定语句数量\n",
        "num_statements_input = widgets.IntText(\n",
        "    value=5,\n",
        "    description='语句数量:',\n",
        "    disabled=False\n",
        ")\n",
        "\n",
        "# 当情感类型或语句数量改变时触发的函数\n",
        "def on_value_change(change):\n",
        "    emotion = emotion_dropdown.value\n",
        "    num_statements = num_statements_input.value\n",
        "    #display_statements(emotion, num_statements)\n",
        "    #display_performance(emotion)\n",
        "\n",
        "# 监听下拉菜单和整数输入框的变化\n",
        "emotion_dropdown.observe(on_value_change, names='value')\n",
        "num_statements_input.observe(on_value_change, names='value')\n",
        "\n",
        "output_area.clear_output()\n",
        "\n",
        "# 显示UI组件\n",
        "display(VBox([emotion_dropdown, num_statements_input, query_button, output_area]))\n"
      ],
      "metadata": {
        "colab": {
          "base_uri": "https://localhost:8080/",
          "height": 287,
          "referenced_widgets": [
            "5398422094ea42ac84812292907f48aa",
            "fef82870790542a39dd1e3241bac0e2d",
            "7ded703e708042bf9dd3599d4328804d",
            "c262d879e9f246ebb7c245ec4663b1e3",
            "3801d04f2fce484bbaa543f375a81a39",
            "3d2632ac04ee4b299abb4a41eae9441c",
            "63f8119c290e4e2797c622e5867af96a",
            "b5569c4ee2da46eeac87ff3986cef0c0",
            "731a63bf4e5241e8a86a3b5d1baab34b",
            "5aeaed74e7c84d68b3afd084c142a986",
            "6b23e7f738f740c6bbba335cc85519a9",
            "af9434f469b0479dbbb746dc77e429fd",
            "9a101dc156934458aeb4fff0823c0ae0"
          ]
        },
        "id": "ePBYT8zpKiQr",
        "outputId": "51754386-8a0b-40df-c646-4044f15e0a8b"
      },
      "execution_count": 25,
      "outputs": [
        {
          "output_type": "display_data",
          "data": {
            "text/plain": [
              "VBox(children=(Dropdown(description='情感类别:', options=('积极', '中立', '消极'), value='积极'), IntText(value=5, descrip…"
            ],
            "application/vnd.jupyter.widget-view+json": {
              "version_major": 2,
              "version_minor": 0,
              "model_id": "5398422094ea42ac84812292907f48aa"
            }
          },
          "metadata": {}
        }
      ]
    }
  ]
}